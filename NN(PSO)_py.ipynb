{
  "nbformat": 4,
  "nbformat_minor": 0,
  "metadata": {
    "colab": {
      "provenance": []
    },
    "kernelspec": {
      "name": "python3",
      "display_name": "Python 3"
    },
    "language_info": {
      "name": "python"
    }
  },
  "cells": [
    {
      "cell_type": "code",
      "source": [
        "import numpy as np\n",
        "import pandas as pd"
      ],
      "metadata": {
        "id": "k9ALKpKSh7NL"
      },
      "execution_count": 22,
      "outputs": []
    },
    {
      "cell_type": "code",
      "source": [
        "df = pd.read_csv('Bank_Personal_Loan_Modelling.csv')\n",
        "df = df.drop(['ID', 'ZIP Code'], axis=1)\n",
        "df = pd.get_dummies(df, columns=['Education', 'Personal Loan', 'Securities Account', 'CD Account', 'Online', 'CreditCard'],drop_first=True)\n",
        "x = df.drop('Personal Loan_1', axis=1)\n",
        "y = df['Personal Loan_1'].values"
      ],
      "metadata": {
        "id": "dcDUmeu5VzLp"
      },
      "execution_count": 23,
      "outputs": []
    },
    {
      "cell_type": "code",
      "source": [
        "from sklearn.model_selection import train_test_split\n",
        "from sklearn.preprocessing import StandardScaler\n",
        "x_train, x_test, y_train, y_test = train_test_split(x, y, test_size=0.25, random_state=42)\n",
        "scaler = StandardScaler()\n",
        "x_train = scaler.fit_transform(x_train)\n",
        "x_test = scaler.transform(x_test)"
      ],
      "metadata": {
        "id": "Lqv7Io9tadhx"
      },
      "execution_count": 24,
      "outputs": []
    },
    {
      "cell_type": "code",
      "source": [
        "def sigmoid(x):\n",
        "    return 1 / (1 + np.exp(-x))"
      ],
      "metadata": {
        "id": "QdmP5pd8b2MH"
      },
      "execution_count": 25,
      "outputs": []
    },
    {
      "cell_type": "code",
      "source": [
        "input_dim = x_train.shape[1]\n",
        "hidden_dim = 5\n",
        "output_dim = 1"
      ],
      "metadata": {
        "id": "RU-wzPDSllT-"
      },
      "execution_count": 27,
      "outputs": []
    },
    {
      "cell_type": "code",
      "source": [
        "w1 = np.random.randn(input_dim, hidden_dim)\n",
        "w2 = np.random.randn(hidden_dim, output_dim)"
      ],
      "metadata": {
        "id": "QitLnPaSlnez"
      },
      "execution_count": 28,
      "outputs": []
    },
    {
      "cell_type": "code",
      "source": [
        "def fitness_function(w):\n",
        "    global w1, w2\n",
        "    w1 = w[:input_dim * hidden_dim].reshape(input_dim, hidden_dim)\n",
        "    w2 = w[input_dim * hidden_dim:].reshape(hidden_dim, output_dim)\n",
        "    z1 = np.dot(x_train, w1)\n",
        "    a1 = sigmoid(z1)\n",
        "    z2 = np.dot(a1, w2)\n",
        "    y_pred = sigmoid(z2)\n",
        "    y_pred = np.round(y_pred)\n",
        "    accuracy = np.mean(y_pred == y_train)\n",
        "    return accuracy"
      ],
      "metadata": {
        "id": "dTKjmUlrltbW"
      },
      "execution_count": 29,
      "outputs": []
    },
    {
      "cell_type": "code",
      "source": [
        "def pso(fitness_function, num_particles, max_iter):\n",
        "    positions = np.random.randn(num_particles, input_dim * hidden_dim + hidden_dim * output_dim).astype(float)\n",
        "    velocities = np.zeros_like(positions)\n",
        "    global_best_position = positions[0]\n",
        "    global_best_fitness = 0\n",
        "    for i in range(max_iter):\n",
        "        for j in range(num_particles):\n",
        "            inertia = 0.5\n",
        "            cognitive = 1\n",
        "            social = 1\n",
        "            r1 = np.random.rand(input_dim * hidden_dim + hidden_dim * output_dim)\n",
        "            r2 = np.random.rand(input_dim * hidden_dim + hidden_dim * output_dim)\n",
        "            velocities[j] = inertia * velocities[j] + cognitive * r1 * (global_best_position - positions[j]) + social * r2 * (np.random.randn(input_dim * hidden_dim + hidden_dim * output_dim) - positions[j])\n",
        "            positions[j] = positions[j] + velocities[j]\n",
        "        fitness = np.array([fitness_function(positions[j]) for j in range(num_particles)])\n",
        "        if fitness.max() > global_best_fitness:\n",
        "            global_best_fitness = fitness.max()\n",
        "            global_best_position = positions[fitness.argmax()]\n",
        "    global_best_w1 = global_best_position[:input_dim * hidden_dim].reshape(input_dim, hidden_dim)\n",
        "    global_best_w2 = global_best_position[input_dim * hidden_dim:].reshape(hidden_dim, output_dim)\n",
        "    return global_best_w1, global_best_w2"
      ],
      "metadata": {
        "id": "dhh6n1Vfl0Lj"
      },
      "execution_count": 36,
      "outputs": []
    },
    {
      "cell_type": "code",
      "source": [
        "num_particles = 10\n",
        "max_iter = 100\n",
        "w1, w2 = pso(fitness_function, num_particles, max_iter)"
      ],
      "metadata": {
        "id": "0hWvVIVJmZRr"
      },
      "execution_count": 37,
      "outputs": []
    },
    {
      "cell_type": "code",
      "source": [
        "z1 = np.dot(x_test, w1)\n",
        "a1 = sigmoid(z1)\n",
        "z2 = np.dot(a1, w2)\n",
        "y_pred = sigmoid(z2)"
      ],
      "metadata": {
        "id": "Ku57HQ44mdGB"
      },
      "execution_count": 39,
      "outputs": []
    },
    {
      "cell_type": "code",
      "source": [
        "y_pred = np.round(y_pred)\n",
        "accuracy = np.mean(y_pred == y_test)\n",
        "accuracy"
      ],
      "metadata": {
        "colab": {
          "base_uri": "https://localhost:8080/"
        },
        "id": "5cUAZVouppCp",
        "outputId": "3cfc625c-7cd6-49f1-8448-de07220a7384"
      },
      "execution_count": 40,
      "outputs": [
        {
          "output_type": "execute_result",
          "data": {
            "text/plain": [
              "0.8928"
            ]
          },
          "metadata": {},
          "execution_count": 40
        }
      ]
    },
    {
      "cell_type": "code",
      "source": [],
      "metadata": {
        "id": "gi10JvkjpyjC"
      },
      "execution_count": null,
      "outputs": []
    }
  ]
}