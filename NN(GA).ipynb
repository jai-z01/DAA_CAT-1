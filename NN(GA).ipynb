{
  "nbformat": 4,
  "nbformat_minor": 0,
  "metadata": {
    "colab": {
      "provenance": []
    },
    "kernelspec": {
      "name": "python3",
      "display_name": "Python 3"
    },
    "language_info": {
      "name": "python"
    }
  },
  "cells": [
    {
      "cell_type": "code",
      "execution_count": 13,
      "metadata": {
        "id": "g3LWu84uuCBJ"
      },
      "outputs": [],
      "source": [
        "import numpy as np\n",
        "import pandas as pd\n",
        "import random\n",
        "from keras.models import Sequential\n",
        "from keras.layers import Dense"
      ]
    },
    {
      "cell_type": "code",
      "source": [
        "df = pd.read_csv('Bank_Personal_Loan_Modelling.csv')\n",
        "df = df.drop(['ID', 'ZIP Code'], axis=1)\n",
        "df = pd.get_dummies(df, columns=['Education', 'Personal Loan', 'Securities Account', 'CD Account', 'Online', 'CreditCard'],drop_first=True)\n",
        "x = df.drop('Personal Loan_1', axis=1)\n",
        "y = df['Personal Loan_1']"
      ],
      "metadata": {
        "id": "p-wLPESxuNH1"
      },
      "execution_count": 15,
      "outputs": []
    },
    {
      "cell_type": "code",
      "source": [
        "from sklearn.model_selection import train_test_split\n",
        "from sklearn.preprocessing import StandardScaler\n",
        "x_train, x_test, y_train, y_test = train_test_split(x, y, test_size=0.25, random_state=42)\n",
        "scaler = StandardScaler()\n",
        "x_train = scaler.fit_transform(x_train)\n",
        "x_test = scaler.transform(x_test)"
      ],
      "metadata": {
        "id": "RMeLpYsquNKN"
      },
      "execution_count": 17,
      "outputs": []
    },
    {
      "cell_type": "code",
      "source": [
        "def create_model(individual):\n",
        "    model = Sequential()\n",
        "    model.add(Dense(units=individual[0], activation='relu', input_dim=x_train.shape[1]))\n",
        "    for i in range(1, len(individual)):\n",
        "        model.add(Dense(units=individual[i], activation='relu'))\n",
        "    model.add(Dense(units=1, activation='sigmoid'))\n",
        "    model.compile(optimizer='adam', loss='binary_crossentropy', metrics=['accuracy'])\n",
        "    return model"
      ],
      "metadata": {
        "id": "ZyudpmdXuNMn"
      },
      "execution_count": 18,
      "outputs": []
    },
    {
      "cell_type": "code",
      "source": [
        "def evaluate_model(individual):\n",
        "    model = create_model(individual)\n",
        "    model.fit(x_train, y_train, epochs=10, batch_size=32, verbose=0)\n",
        "    _, accuracy = model.evaluate(x_train, y_train, verbose=0)\n",
        "    return accuracy,"
      ],
      "metadata": {
        "id": "2hQTvATp3DZ_"
      },
      "execution_count": 19,
      "outputs": []
    },
    {
      "cell_type": "code",
      "source": [
        "population_size = 10\n",
        "n_generations = 5\n",
        "n_features = x_train.shape[1]\n",
        "n_hidden_layers = 2\n",
        "min_neurons = 5\n",
        "max_neurons = 50\n",
        "mutation_prob = 0.1"
      ],
      "metadata": {
        "id": "cderk9gP4JEq"
      },
      "execution_count": 20,
      "outputs": []
    },
    {
      "cell_type": "code",
      "source": [
        "population = []\n",
        "for i in range(population_size):\n",
        "    individual = []\n",
        "    for j in range(n_hidden_layers):\n",
        "        n_neurons = random.randint(min_neurons, max_neurons)\n",
        "        individual.append(n_neurons)\n",
        "    population.append(individual)"
      ],
      "metadata": {
        "id": "GVGAxAH94TXw"
      },
      "execution_count": 21,
      "outputs": []
    },
    {
      "cell_type": "code",
      "source": [
        "for gen in range(n_generations):\n",
        "    print(f'Generation {gen+1}')\n",
        "    fitness_values = []\n",
        "    for individual in population:\n",
        "        fitness_value = evaluate_model(individual)\n",
        "        fitness_values.append(fitness_value)\n",
        "    print(fitness_values)\n",
        "    fitness_values = np.array(fitness_values)\n",
        "    best_individual_idx = np.argmax(fitness_values)\n",
        "    best_individual = population[best_individual_idx]\n",
        "    print(f'Best individual: {best_individual}')\n",
        "    new_population = [best_individual]\n",
        "    for i in range(1, population_size):\n",
        "        parent1_idx = np.random.randint(0, population_size)\n",
        "        parent2_idx = np.random.randint(0, population_size)\n",
        "        parent1 = population[parent1_idx]\n",
        "        parent2 = population[parent2_idx]\n",
        "        crossover_point = np.random.randint(1, n_hidden_layers)\n",
        "        child = parent1[:crossover_point] + parent2[crossover_point:]\n",
        "    for j in range(len(child)):\n",
        "        if np.random.rand() < mutation_prob:\n",
        "            child[j] = random.randint(min_neurons, max_neurons)\n",
        "            new_population.append(child)\n",
        "            population = new_population\n",
        "                                    \n"
      ],
      "metadata": {
        "colab": {
          "base_uri": "https://localhost:8080/"
        },
        "id": "V5uNGt-g4irZ",
        "outputId": "7eb0a80c-95bc-4e4c-d216-7af9ad994413"
      },
      "execution_count": 22,
      "outputs": [
        {
          "output_type": "stream",
          "name": "stdout",
          "text": [
            "Generation 1\n",
            "[(0.9858666658401489,), (0.977066695690155,), (0.9794666767120361,), (0.9858666658401489,), (0.9855999946594238,), (0.9847999811172485,), (0.9714666604995728,), (0.9832000136375427,), (0.9746666550636292,), (0.9845333099365234,)]\n",
            "Best individual: [50, 35]\n",
            "Generation 2\n",
            "[(0.9834666848182678,), (0.9781333208084106,), (0.9815999865531921,), (0.9842666387557983,), (0.9864000082015991,), (0.9853333234786987,), (0.9682666659355164,), (0.9837333559989929,), (0.9730666875839233,), (0.986133337020874,)]\n",
            "Best individual: [40, 32]\n",
            "Generation 3\n",
            "[(0.986133337020874,), (0.9768000245094299,), (0.9794666767120361,), (0.9845333099365234,), (0.9847999811172485,), (0.9847999811172485,), (0.9664000272750854,), (0.981333315372467,), (0.9696000218391418,), (0.9837333559989929,)]\n",
            "Best individual: [50, 35]\n",
            "Generation 4\n",
            "[(0.9869333505630493,), (0.9757333397865295,), (0.9815999865531921,), (0.9864000082015991,), (0.9847999811172485,), (0.9824000000953674,), (0.9677333235740662,), (0.9834666848182678,), (0.9725333452224731,), (0.9855999946594238,)]\n",
            "Best individual: [50, 35]\n",
            "Generation 5\n",
            "[(0.9869333505630493,), (0.9797333478927612,), (0.9783999919891357,), (0.9847999811172485,), (0.9858666658401489,), (0.9855999946594238,), (0.9778666496276855,), (0.979200005531311,), (0.9698666930198669,), (0.986133337020874,)]\n",
            "Best individual: [50, 35]\n"
          ]
        }
      ]
    },
    {
      "cell_type": "code",
      "source": [
        "best_model = create_model(best_individual)\n",
        "best_model.fit(x_train, y_train, epochs=10, batch_size=32, verbose=1)"
      ],
      "metadata": {
        "colab": {
          "base_uri": "https://localhost:8080/"
        },
        "id": "vLFo91Gn7RU-",
        "outputId": "56c89edd-cc5b-43f7-9fd3-68fcf62a8336"
      },
      "execution_count": 23,
      "outputs": [
        {
          "output_type": "stream",
          "name": "stdout",
          "text": [
            "Epoch 1/10\n",
            "118/118 [==============================] - 1s 2ms/step - loss: 0.2967 - accuracy: 0.9027\n",
            "Epoch 2/10\n",
            "118/118 [==============================] - 0s 2ms/step - loss: 0.1317 - accuracy: 0.9483\n",
            "Epoch 3/10\n",
            "118/118 [==============================] - 0s 2ms/step - loss: 0.0941 - accuracy: 0.9672\n",
            "Epoch 4/10\n",
            "118/118 [==============================] - 0s 2ms/step - loss: 0.0779 - accuracy: 0.9749\n",
            "Epoch 5/10\n",
            "118/118 [==============================] - 0s 2ms/step - loss: 0.0697 - accuracy: 0.9768\n",
            "Epoch 6/10\n",
            "118/118 [==============================] - 0s 2ms/step - loss: 0.0644 - accuracy: 0.9795\n",
            "Epoch 7/10\n",
            "118/118 [==============================] - 0s 2ms/step - loss: 0.0600 - accuracy: 0.9800\n",
            "Epoch 8/10\n",
            "118/118 [==============================] - 0s 2ms/step - loss: 0.0581 - accuracy: 0.9811\n",
            "Epoch 9/10\n",
            "118/118 [==============================] - 0s 2ms/step - loss: 0.0541 - accuracy: 0.9813\n",
            "Epoch 10/10\n",
            "118/118 [==============================] - 0s 2ms/step - loss: 0.0532 - accuracy: 0.9811\n"
          ]
        },
        {
          "output_type": "execute_result",
          "data": {
            "text/plain": [
              "<keras.callbacks.History at 0x7f1758531700>"
            ]
          },
          "metadata": {},
          "execution_count": 23
        }
      ]
    },
    {
      "cell_type": "code",
      "source": [
        "_, test_accuracy = best_model.evaluate(x_test, y_test, verbose=0)\n",
        "print(f'Accuracy: {test_accuracy}')"
      ],
      "metadata": {
        "colab": {
          "base_uri": "https://localhost:8080/"
        },
        "id": "aY9dti0D8Ow0",
        "outputId": "baaf5500-35d4-42de-8975-c5407d4b0b26"
      },
      "execution_count": 24,
      "outputs": [
        {
          "output_type": "stream",
          "name": "stdout",
          "text": [
            "Accuracy: 0.9783999919891357\n"
          ]
        }
      ]
    },
    {
      "cell_type": "code",
      "source": [],
      "metadata": {
        "id": "VOZJ6QLNZ6qI"
      },
      "execution_count": null,
      "outputs": []
    }
  ]
}