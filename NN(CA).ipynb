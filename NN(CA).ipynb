{
  "nbformat": 4,
  "nbformat_minor": 0,
  "metadata": {
    "colab": {
      "provenance": []
    },
    "kernelspec": {
      "name": "python3",
      "display_name": "Python 3"
    },
    "language_info": {
      "name": "python"
    }
  },
  "cells": [
    {
      "cell_type": "code",
      "execution_count": 9,
      "metadata": {
        "id": "oSD53uGCsVc4"
      },
      "outputs": [],
      "source": [
        "import numpy as np\n",
        "import pandas as pd\n",
        "import random\n",
        "from keras.models import Sequential\n",
        "from keras.layers import Dense\n",
        "from tensorflow.keras.optimizers import Adam\n",
        "from tensorflow.keras import backend as K"
      ]
    },
    {
      "cell_type": "code",
      "source": [
        "df = pd.read_csv('Bank_Personal_Loan_Modelling.csv')\n",
        "df = df.drop(['ID', 'ZIP Code'], axis=1)\n",
        "df = pd.get_dummies(df, columns=['Education', 'Personal Loan', 'Securities Account', 'CD Account', 'Online', 'CreditCard'],drop_first=True)\n",
        "x = df.drop('Personal Loan_1', axis=1)\n",
        "y = df['Personal Loan_1']"
      ],
      "metadata": {
        "id": "1YK5Up20sZqG"
      },
      "execution_count": 10,
      "outputs": []
    },
    {
      "cell_type": "code",
      "source": [
        "from sklearn.model_selection import train_test_split\n",
        "from sklearn.preprocessing import StandardScaler\n",
        "x_train, x_test, y_train, y_test = train_test_split(x, y, test_size=0.25, random_state=42)\n",
        "scaler = StandardScaler()\n",
        "x_train = scaler.fit_transform(x_train)\n",
        "x_test = scaler.transform(x_test)"
      ],
      "metadata": {
        "id": "ful3UY-MtU57"
      },
      "execution_count": 11,
      "outputs": []
    },
    {
      "cell_type": "code",
      "source": [
        "def build_model():\n",
        "    model = Sequential([\n",
        "        Dense(32, input_shape=(x_train.shape[1],), activation='relu'),\n",
        "        Dense(16, activation='relu'),\n",
        "        Dense(1, activation='sigmoid')])\n",
        "    return model"
      ],
      "metadata": {
        "id": "LIHFDpPjsi8Y"
      },
      "execution_count": 12,
      "outputs": []
    },
    {
      "cell_type": "code",
      "source": [
        "def fitness_function(weights):\n",
        "    model.set_weights(weights)\n",
        "    y_pred = model.predict(x_train)\n",
        "    accuracy = K.mean(K.equal(K.round(y_pred), y_train))\n",
        "    return accuracy"
      ],
      "metadata": {
        "id": "pmllLPngsqiq"
      },
      "execution_count": 13,
      "outputs": []
    },
    {
      "cell_type": "code",
      "source": [
        "def cultural_algorithm(population_size, max_generation):\n",
        "    global model\n",
        "    num_weights = len(model.get_weights())\n",
        "    population = [model.get_weights() for i in range(population_size)]\n",
        "    for generation in range(max_generation):\n",
        "        fitness = np.array([fitness_function(individual) for individual in population])\n",
        "        sorted_indices = np.argsort(fitness)[::-1]\n",
        "        population = [population[i] for i in sorted_indices]\n",
        "        cultural_best = population[0]\n",
        "        for i in range(population_size):\n",
        "            for j in range(num_weights):\n",
        "                if np.random.rand() < 0.3:\n",
        "                    population[i][j] = cultural_best[j]\n",
        "        for i in range(2, population_size):\n",
        "            parent1 = population[np.random.randint(2)]\n",
        "            parent2 = population[np.random.randint(2)]\n",
        "            child = parent1.copy()\n",
        "            for j in range(num_weights):\n",
        "                if np.random.rand() < 0.5:\n",
        "                    child[j] = parent2[j]\n",
        "            if np.random.rand() < 0.1:\n",
        "                child[np.random.randint(num_weights)] += np.random.normal(scale=0.1)\n",
        "            population[i] = child\n",
        "    fitness = np.array([fitness_function(individual) for individual in population])\n",
        "    sorted_indices = np.argsort(fitness)[::-1]\n",
        "    population = [population[i] for i in sorted_indices]\n",
        "    best_individual = population[0]\n",
        "    return best_individual"
      ],
      "metadata": {
        "id": "VZBRsrXKs1mn"
      },
      "execution_count": 14,
      "outputs": []
    },
    {
      "cell_type": "code",
      "source": [
        "model = build_model()\n",
        "population_size = 10\n",
        "max_generation = 10\n",
        "population = [model.get_weights() for i in range(population_size)]"
      ],
      "metadata": {
        "id": "cmWsFLcgtLsa"
      },
      "execution_count": 17,
      "outputs": []
    },
    {
      "cell_type": "code",
      "source": [
        "best_individual = cultural_algorithm(population_size, max_generation)\n",
        "model.set_weights(best_individual)"
      ],
      "metadata": {
        "colab": {
          "base_uri": "https://localhost:8080/"
        },
        "id": "RHnb68hotPIa",
        "outputId": "d7a1c900-9d8a-4c58-dc6c-43fb13e1a6a2"
      },
      "execution_count": 18,
      "outputs": [
        {
          "output_type": "stream",
          "name": "stdout",
          "text": [
            "118/118 [==============================] - 0s 2ms/step\n",
            "118/118 [==============================] - 0s 1ms/step\n",
            "118/118 [==============================] - 0s 1ms/step\n",
            "118/118 [==============================] - 0s 1ms/step\n",
            "118/118 [==============================] - 0s 1ms/step\n",
            "118/118 [==============================] - 0s 1ms/step\n",
            "118/118 [==============================] - 0s 1ms/step\n",
            "118/118 [==============================] - 0s 1ms/step\n",
            "118/118 [==============================] - 0s 1ms/step\n",
            "118/118 [==============================] - 0s 1ms/step\n",
            "118/118 [==============================] - 0s 1ms/step\n",
            "118/118 [==============================] - 0s 1ms/step\n",
            "118/118 [==============================] - 0s 1ms/step\n",
            "118/118 [==============================] - 0s 1ms/step\n",
            "118/118 [==============================] - 0s 1ms/step\n",
            "118/118 [==============================] - 0s 1ms/step\n",
            "118/118 [==============================] - 0s 1ms/step\n",
            "118/118 [==============================] - 0s 1ms/step\n",
            "118/118 [==============================] - 0s 1ms/step\n",
            "118/118 [==============================] - 0s 1ms/step\n",
            "118/118 [==============================] - 0s 1ms/step\n",
            "118/118 [==============================] - 0s 1ms/step\n",
            "118/118 [==============================] - 0s 1ms/step\n",
            "118/118 [==============================] - 0s 1ms/step\n",
            "118/118 [==============================] - 0s 1ms/step\n",
            "118/118 [==============================] - 0s 1ms/step\n",
            "118/118 [==============================] - 0s 1ms/step\n",
            "118/118 [==============================] - 0s 1ms/step\n",
            "118/118 [==============================] - 0s 1ms/step\n",
            "118/118 [==============================] - 0s 2ms/step\n",
            "118/118 [==============================] - 0s 2ms/step\n",
            "118/118 [==============================] - 0s 2ms/step\n",
            "118/118 [==============================] - 0s 2ms/step\n",
            "118/118 [==============================] - 0s 2ms/step\n",
            "118/118 [==============================] - 0s 2ms/step\n",
            "118/118 [==============================] - 0s 1ms/step\n",
            "118/118 [==============================] - 0s 1ms/step\n",
            "118/118 [==============================] - 0s 1ms/step\n",
            "118/118 [==============================] - 0s 1ms/step\n",
            "118/118 [==============================] - 0s 1ms/step\n",
            "118/118 [==============================] - 0s 1ms/step\n",
            "118/118 [==============================] - 0s 1ms/step\n",
            "118/118 [==============================] - 0s 1ms/step\n",
            "118/118 [==============================] - 0s 1ms/step\n",
            "118/118 [==============================] - 0s 1ms/step\n",
            "118/118 [==============================] - 0s 1ms/step\n",
            "118/118 [==============================] - 0s 1ms/step\n",
            "118/118 [==============================] - 0s 1ms/step\n",
            "118/118 [==============================] - 0s 1ms/step\n",
            "118/118 [==============================] - 0s 3ms/step\n",
            "118/118 [==============================] - 0s 3ms/step\n",
            "118/118 [==============================] - 0s 3ms/step\n",
            "118/118 [==============================] - 0s 2ms/step\n",
            "118/118 [==============================] - 0s 1ms/step\n",
            "118/118 [==============================] - 0s 1ms/step\n",
            "118/118 [==============================] - 0s 1ms/step\n",
            "118/118 [==============================] - 0s 1ms/step\n",
            "118/118 [==============================] - 0s 2ms/step\n",
            "118/118 [==============================] - 0s 2ms/step\n",
            "118/118 [==============================] - 0s 2ms/step\n",
            "118/118 [==============================] - 0s 2ms/step\n",
            "118/118 [==============================] - 0s 2ms/step\n",
            "118/118 [==============================] - 0s 2ms/step\n",
            "118/118 [==============================] - 0s 1ms/step\n",
            "118/118 [==============================] - 0s 1ms/step\n",
            "118/118 [==============================] - 0s 1ms/step\n",
            "118/118 [==============================] - 0s 1ms/step\n",
            "118/118 [==============================] - 0s 1ms/step\n",
            "118/118 [==============================] - 0s 1ms/step\n",
            "118/118 [==============================] - 0s 1ms/step\n",
            "118/118 [==============================] - 0s 1ms/step\n",
            "118/118 [==============================] - 0s 1ms/step\n",
            "118/118 [==============================] - 0s 1ms/step\n",
            "118/118 [==============================] - 0s 1ms/step\n",
            "118/118 [==============================] - 0s 1ms/step\n",
            "118/118 [==============================] - 0s 1ms/step\n",
            "118/118 [==============================] - 0s 1ms/step\n",
            "118/118 [==============================] - 0s 1ms/step\n",
            "118/118 [==============================] - 0s 1ms/step\n",
            "118/118 [==============================] - 0s 1ms/step\n",
            "118/118 [==============================] - 0s 1ms/step\n",
            "118/118 [==============================] - 0s 1ms/step\n",
            "118/118 [==============================] - 0s 1ms/step\n",
            "118/118 [==============================] - 0s 1ms/step\n",
            "118/118 [==============================] - 0s 1ms/step\n",
            "118/118 [==============================] - 0s 1ms/step\n",
            "118/118 [==============================] - 0s 1ms/step\n",
            "118/118 [==============================] - 0s 1ms/step\n",
            "118/118 [==============================] - 0s 1ms/step\n",
            "118/118 [==============================] - 0s 1ms/step\n",
            "118/118 [==============================] - 0s 2ms/step\n",
            "118/118 [==============================] - 0s 2ms/step\n",
            "118/118 [==============================] - 0s 2ms/step\n",
            "118/118 [==============================] - 0s 2ms/step\n",
            "118/118 [==============================] - 0s 2ms/step\n",
            "118/118 [==============================] - 0s 1ms/step\n",
            "118/118 [==============================] - 0s 1ms/step\n",
            "118/118 [==============================] - 0s 1ms/step\n",
            "118/118 [==============================] - 0s 1ms/step\n",
            "118/118 [==============================] - 0s 1ms/step\n",
            "118/118 [==============================] - 0s 1ms/step\n",
            "118/118 [==============================] - 0s 1ms/step\n",
            "118/118 [==============================] - 0s 1ms/step\n",
            "118/118 [==============================] - 0s 1ms/step\n",
            "118/118 [==============================] - 0s 1ms/step\n",
            "118/118 [==============================] - 0s 1ms/step\n",
            "118/118 [==============================] - 0s 1ms/step\n",
            "118/118 [==============================] - 0s 1ms/step\n",
            "118/118 [==============================] - 0s 1ms/step\n",
            "118/118 [==============================] - 0s 1ms/step\n"
          ]
        }
      ]
    },
    {
      "cell_type": "code",
      "source": [
        "y_pred = model.predict(x_test)\n",
        "np.round(y_pred)"
      ],
      "metadata": {
        "colab": {
          "base_uri": "https://localhost:8080/"
        },
        "id": "WckLGvQMtb1Z",
        "outputId": "ebdf7f83-8db5-46dc-cb84-612b0f7773ff"
      },
      "execution_count": 28,
      "outputs": [
        {
          "output_type": "stream",
          "name": "stdout",
          "text": [
            "40/40 [==============================] - 0s 2ms/step\n"
          ]
        },
        {
          "output_type": "execute_result",
          "data": {
            "text/plain": [
              "array([[1.],\n",
              "       [1.],\n",
              "       [1.],\n",
              "       ...,\n",
              "       [1.],\n",
              "       [1.],\n",
              "       [1.]], dtype=float32)"
            ]
          },
          "metadata": {},
          "execution_count": 28
        }
      ]
    },
    {
      "cell_type": "code",
      "source": [],
      "metadata": {
        "id": "6hsk-oPrunrE"
      },
      "execution_count": null,
      "outputs": []
    }
  ]
}